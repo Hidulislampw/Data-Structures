{
  "nbformat": 4,
  "nbformat_minor": 0,
  "metadata": {
    "colab": {
      "provenance": []
    },
    "kernelspec": {
      "name": "python3",
      "display_name": "Python 3"
    },
    "language_info": {
      "name": "python"
    }
  },
  "cells": [
    {
      "cell_type": "code",
      "execution_count": null,
      "metadata": {
        "id": "myuCHSFD8n3L"
      },
      "outputs": [],
      "source": []
    },
    {
      "cell_type": "markdown",
      "source": [
        "THEORY QUESTIONS"
      ],
      "metadata": {
        "id": "Z9qWHyhcRUtV"
      }
    },
    {
      "cell_type": "markdown",
      "source": [
        "1. What are data structure and why are they important?\n",
        "\n",
        "Ans 1. A data structure is a way of organizing, managing, and storing data in a computer so that it can be accessed and modified efficiently. It defines the relationship between data, how it is stored, and how operations can be performed on it. Data Structures are important because:\n",
        "a-Efficient Data Handling: Helps in storing and retrieving data efficiently.\n",
        "b-Optimized Performance: Enhances the performance of programs by optimizing search, insertion, deletion, and sorting operations.\n",
        "c-Better Problem-Solving: Many algorithms depend on appropriate data structures to solve problems efficiently.\n",
        "d-Real-World Applications: Used in databases, networking, artificial intelligence, and various computational fields."
      ],
      "metadata": {
        "id": "oQGvIFE-8pRA"
      }
    },
    {
      "cell_type": "markdown",
      "source": [],
      "metadata": {
        "id": "jfhJ3-oV817G"
      }
    },
    {
      "cell_type": "markdown",
      "source": [
        "2.  Explain the difference between mutable and immutable data types with examples\n",
        "\n",
        "Ans 2. Mutable and immutable data types differ in whether their values can be changed after creation.\n",
        "\n",
        "\n"
      ],
      "metadata": {
        "id": "hiGZ4keK8_-1"
      }
    },
    {
      "cell_type": "code",
      "source": [
        "# Immutable Data Types cannot be changed after they are created. When you perform operations on immutable objects, we're actually creating new objects.Examples include-\n",
        "\n",
        "#integers-x = 5\n",
        "y = x\n",
        "x = x + 1  # Creates a new integer object (6), doesn't modify the original\n",
        "print(y)   # Still 5\n",
        "\n",
        "#strings-\n",
        "s = \"hello\"\n",
        "t = s\n",
        "s = s + \" world\"  # Creates a new string, doesn't modify \"hello\"\n",
        "print(t)  # Still \"hello\"\n",
        "\n",
        "#tuples\n",
        "tup = (1, 2, 3)\n",
        "# tup[0] = 5  # This would raise an error\n",
        "\n",
        "# frozen sets\n",
        "fs = frozenset([1, 2, 3])\n",
        "# fs.add(4)  # This would raise an error\n",
        "\n",
        "Mutable data types can be modified after they are created. Operations on mutable objects can change the object in-place.Examples include-\n",
        "#lists-\n",
        "list1 = [1, 2, 3,]\n",
        "list1.append(4)  # Modifies the original list\n",
        "print(list1)     # [1, 2, 3, 4]\n",
        "\n",
        "#disctionaries\n",
        "#dict1 = {'a': 1, 'b': 2}\n",
        "dict2 = dict1\n",
        "dict1['c'] = 3   # Modifies the original dictionary\n",
        "print(dict2)     # {'a': 1, 'b': 2, 'c': 3}"
      ],
      "metadata": {
        "id": "5He6WyXV-P_U"
      },
      "execution_count": null,
      "outputs": []
    },
    {
      "cell_type": "markdown",
      "source": [],
      "metadata": {
        "id": "qpgWlRSI86bB"
      }
    },
    {
      "cell_type": "markdown",
      "source": [],
      "metadata": {
        "id": "OKpM9P4M9RGc"
      }
    },
    {
      "cell_type": "markdown",
      "source": [
        "3. What are the main differences between lists and tuples in Python?\n",
        "\n",
        "Ans 3. Lists and tuples are both sequence data types in Python, but they have several key differences:"
      ],
      "metadata": {
        "id": "8hGfkRxi9Ydd"
      }
    },
    {
      "cell_type": "code",
      "source": [
        "1. Mutability\n",
        "\n",
        "# Lists: Mutable (can be modified after creation)\n",
        "# Tuples: Immutable (cannot be modified after creation)\n",
        "# List example (mutable)\n",
        "my_list = [1, 2, 3]\n",
        "my_list[0] = 10      # Valid\n",
        "my_list.append(4)    # Valid\n",
        "print(my_list)       # [10, 2, 3, 4]\n",
        "\n",
        "# Tuple example (immutable)\n",
        "my_tuple = (1, 2, 3)\n",
        "# my_tuple[0] = 10   # TypeError: 'tuple' object does not support item assignment\n",
        "# my_tuple.append(4) # AttributeError: 'tuple' object has no attribute 'append'\n",
        "\n",
        "2. Syntax\n",
        "\n",
        "# Lists: Use square brackets []\n",
        "# Tuples: Use parentheses ()\n",
        "my_list = [1, 2, 3]\n",
        "my_tuple = (1, 2, 3)\n",
        "\n",
        "3.  Methods\n",
        "\n",
        "# Lists: Have more built-in methods (append, insert, remove, sort, etc.)\n",
        "# Tuples: Fewer methods due to immutability\n",
        "# List methods\n",
        "my_list = [3, 1, 2]\n",
        "my_list.sort()       # [1, 2, 3]\n",
        "my_list.reverse()    # [3, 2, 1]\n",
        "my_list.insert(1, 5) # [3, 5, 2, 1]\n",
        "\n",
        "# Tuple methods\n",
        "my_tuple = (3, 1, 2, 3)\n",
        "my_tuple.count(3)    # 2 - counts occurrences\n",
        "my_tuple.index(1)    # 1 - returns first index of value\n",
        "\n",
        "4.Usage Patterns\n",
        "\n",
        "# Lists: Used when order matters and items need modification\n",
        "# Tuples: Used for fixed collections, dictionary keys, and data integrity\n",
        "\n",
        "# Dictionary with tuple as key (valid)\n",
        "coordinates = {(0, 0): 'origin', (1, 0): 'right'}\n",
        "\n",
        "# Dictionary with list as key (invalid)\n",
        "# locations = {[0, 0]: 'origin'}  # TypeError: unhashable type: 'list'"
      ],
      "metadata": {
        "id": "MShC7p1P-nNr"
      },
      "execution_count": null,
      "outputs": []
    },
    {
      "cell_type": "markdown",
      "source": [],
      "metadata": {
        "id": "HhWL18xU95sc"
      }
    },
    {
      "cell_type": "markdown",
      "source": [
        "4.  Describe how dictionaries store data\n",
        "\n",
        "Ans 4.  Dictionaries in Python store data as key-value pairs using a hash table implementation. This structure provides efficient lookups, insertions, and deletions regardless of size. Dictionaries in Python were originally unordered. However, since Python 3.7, dictionaries maintain insertion order. This means when we iterate through a dictionary, the items appear in the same sequence they were added to the dictionary."
      ],
      "metadata": {
        "id": "obOo6Eyw-sNU"
      }
    },
    {
      "cell_type": "code",
      "source": [
        "# Creating a dictionary\n",
        "student = {\n",
        "    \"name\": \"Alex\",\n",
        "    \"age\": 21,\n",
        "    \"major\": \"Computer Science\",\n",
        "    \"gpa\": 3.8\n",
        "}\n",
        "\n",
        "# Accessing values\n",
        "print(student[\"name\"])  # Output: Alex\n",
        "\n",
        "# Adding a new key-value pair\n",
        "student[\"graduation_year\"] = 2025\n",
        "\n",
        "# Updating an existing value\n",
        "student[\"age\"] = 22\n",
        "\n",
        "# Removing a key-value pair\n",
        "del student[\"gpa\"]\n",
        "\n",
        "# Dictionary after modifications\n",
        "print(student)  # {'name': 'Alex', 'age': 22, 'major': 'Computer Science', 'graduation_year': 2025}"
      ],
      "metadata": {
        "id": "AU85FA7T-9O8"
      },
      "execution_count": null,
      "outputs": []
    },
    {
      "cell_type": "markdown",
      "source": [
        "5. Why might you use a set instead of a list in Python?\n",
        "\n",
        "Ans 5. A **set** in Python is used instead of a **list** when you need to store unique elements and perform fast membership checks. Unlike lists, sets do not allow duplicate values, making them ideal for scenarios where data uniqueness is crucial. Additionally, sets offer significantly faster lookups (O(1) on average) compared to lists (O(n)), as they use a hash-based implementation. Operations such as union, intersection, and difference are also more efficient with sets, making them useful for handling large datasets, filtering unique items, or performing mathematical set operations. However, sets do not maintain the order of elements like lists do, so if order is important, a list might be a better choice."
      ],
      "metadata": {
        "id": "hvlnfByu_MVU"
      }
    },
    {
      "cell_type": "code",
      "source": [
        "students_list = [\"Alice\", \"Bob\", \"Alice\", \"Charlie\", \"Bob\", \"David\"]\n",
        "unique_students = set(students_list)  # Convert list to set to remove duplicates\n",
        "\n",
        "print(unique_students)\n",
        "{'Alice', 'Bob', 'Charlie', 'David'}\n",
        "#Here, the set automatically removes duplicate names and provides a collection of unique students.\n",
        "# If we had used a list, we would need extra logic to filter out duplicates manually.\n"
      ],
      "metadata": {
        "id": "FMNbrV_g_s1T"
      },
      "execution_count": null,
      "outputs": []
    },
    {
      "cell_type": "markdown",
      "source": [
        "6. What is a string in Python, and how is it different from a list?\n",
        "\n",
        "Ans 6. A string in Python is a sequence of characters enclosed in quotes (single, double, or triple). It is immutable, meaning once created, it cannot be changed. In contrast, a list is a collection of elements (which can be of different types) enclosed in square brackets and is mutable, allowing modifications such as adding, removing, or changing elements. While both strings and lists are sequences and support indexing and slicing, strings specifically store text and cannot have their elements modified directly, whereas lists can. This makes strings more memory-efficient for storing text, while lists are more flexible for handling collections of data."
      ],
      "metadata": {
        "id": "EV44_YXW_6cn"
      }
    },
    {
      "cell_type": "code",
      "source": [
        "# String (Immutable)\n",
        "text = \"hello\"\n",
        "# text[0] = 'H'  # This will raise an error because strings cannot be changed\n",
        "\n",
        "# List (Mutable)\n",
        "letters = ['h', 'e', 'l', 'l', 'o']\n",
        "letters[0] = 'H'  # This works because lists allow modification\n",
        "\n",
        "print(text)      # Output: hello (unchanged)\n",
        "print(letters)   # Output: ['H', 'e', 'l', 'l', 'o'] (modified)\n",
        "#String (text): When we try to modify text[0], Python raises an error because strings are immutable.\n",
        "#List (letters): We can change letters[0] to 'H' without any issue, as lists are mutable.\n"
      ],
      "metadata": {
        "id": "rvwnlMNnAcQs"
      },
      "execution_count": null,
      "outputs": []
    },
    {
      "cell_type": "markdown",
      "source": [
        "7. How do tuples ensure data integrity in Python?\n",
        "\n",
        "Ans 7. Tuples ensure data integrity in Python by being immutable, meaning their elements cannot be modified, added, or removed after creation. This immutability prevents accidental changes, making tuples ideal for storing fixed collections of data, such as database records, configuration settings, or constants. Unlike lists, which are mutable and can be altered at any time, tuples provide a reliable way to store information that must remain unchanged throughout a program’s execution. Additionally, because tuples are hashable (if they contain only immutable elements), they can be used as dictionary keys and set elements, further reinforcing their role in maintaining data consistency."
      ],
      "metadata": {
        "id": "sVn5gYBhAn9U"
      }
    },
    {
      "cell_type": "code",
      "source": [
        "# Defining a tuple for storing a person's details\n",
        "person_info = (\"Alice\", 25, \"Engineer\")\n",
        "\n",
        "# Attempting to modify the tuple (this will raise an error)\n",
        "# person_info[1] = 30  # Uncommenting this line will cause a TypeError\n",
        "\n",
        "print(person_info)  # Output: ('Alice', 25, 'Engineer')\n",
        "\n",
        "#The person_info tuple stores fixed details about a person.\n",
        "# If we try to change person_info[1] = 30, Python throws a TypeError, preventing unintended modifications.\n",
        "# This ensures that the stored data remains unchanged and reliable throughout the program."
      ],
      "metadata": {
        "id": "d-0BJjqGBDYq"
      },
      "execution_count": null,
      "outputs": []
    },
    {
      "cell_type": "markdown",
      "source": [
        "8. What is a hash table, and how does it relate to dictionaries in Python?\n",
        "\n",
        "Ans 8. A hash table is a data structure that stores key-value pairs and allows fast data retrieval using a hashing function. It works by mapping keys to specific locations (buckets) in memory using a hash function, which converts the key into an index. This enables constant-time (O(1)) average-time complexity for lookups, insertions, and deletions.\n",
        "\n",
        "In Python, the dictionary (dict) is an implementation of a hash table. It uses hashing to store and retrieve values efficiently. When a key is added to a dictionary, Python computes its hash and determines where to store it. When accessing a value, Python uses the hash to locate the corresponding key quickly, making dictionaries highly efficient for large datasets. However, since dictionaries rely on hashing, mutable objects like lists cannot be used as keys, while immutable objects like strings and tuples can."
      ],
      "metadata": {
        "id": "B6sL4hY_BMbg"
      }
    },
    {
      "cell_type": "code",
      "source": [
        "# Creating a dictionary (hash table)\n",
        "student_grades = {\"Alice\": 90, \"Bob\": 85, \"Charlie\": 92}\n",
        "\n",
        "# Fast lookup using the key (O(1) average time complexity)\n",
        "print(student_grades[\"Alice\"])  # Output: 90\n"
      ],
      "metadata": {
        "id": "kxb3unTVBcr1"
      },
      "execution_count": null,
      "outputs": []
    },
    {
      "cell_type": "markdown",
      "source": [
        "9. Can lists contain different data types in Python?\n",
        "\n",
        " Ans 9. Yes, lists in Python can contain different data types. Python lists are heterogeneous, meaning they can store elements of different types such as integers, floats, strings, booleans, other lists, tuples, dictionaries, or even functions. This flexibility makes lists powerful for handling diverse collections of data in a single structure."
      ],
      "metadata": {
        "id": "ECFR3cYyBgx1"
      }
    },
    {
      "cell_type": "code",
      "source": [
        "mixed_list = [42, 3.14, \"hello\", True, [1, 2, 3], {\"key\": \"value\"}]\n",
        "\n",
        "print(mixed_list)\n",
        "[42, 3.14, 'hello', True, [1, 2, 3], {'key': 'value'}]\n",
        "# In this example, the list contains:\n",
        "\n",
        "# An integer (42)\n",
        "# A float (3.14)\n",
        "# A string (\"hello\")\n",
        "# A boolean (True)\n",
        "# A nested list ([1, 2, 3])\n",
        "# A dictionary ({\"key\": \"value\"})"
      ],
      "metadata": {
        "id": "2HLBRtwGBscx"
      },
      "execution_count": null,
      "outputs": []
    },
    {
      "cell_type": "markdown",
      "source": [
        "10.  Explain why strings are immutable in Python\n",
        "\n",
        "Ans 10. Strings in Python are immutable, meaning once created, their contents cannot be changed. This immutability is due to several key reasons:\n",
        "\n",
        "Memory Efficiency: Since strings are widely used, Python optimizes their storage using string interning, where identical strings are stored only once in memory, reducing redundancy. If strings were mutable, modifying one would affect all references to it, leading to unintended side effects.\n",
        "\n",
        "Security & Integrity: In many applications, such as password handling and database queries, immutability prevents accidental or malicious modifications, ensuring data remains consistent and secure.\n",
        "\n",
        "Hashing & Dictionary Keys: Immutable objects can be hashed, making strings usable as keys in dictionaries and elements in sets. If strings were mutable, their hash values could change, leading to inconsistencies in hash-based data structures.\n",
        "\n",
        "Thread Safety: Since strings cannot be modified, they are inherently thread-safe, meaning multiple threads can safely read the same string without risk of data corruption."
      ],
      "metadata": {
        "id": "ysfgcNPdB60l"
      }
    },
    {
      "cell_type": "code",
      "source": [
        "text = \"hello\"\n",
        "# Attempting to modify the string (this will raise an error)\n",
        "# text[0] = 'H'  # Uncommenting this will cause TypeError\n",
        "\n",
        "# Instead, we create a new string\n",
        "text = \"Hello\"  # A new string is created, and 'text' now refers to it\n",
        "\n",
        "print(text)  # Output: Hello\n"
      ],
      "metadata": {
        "id": "iHEr23mnCMea"
      },
      "execution_count": null,
      "outputs": []
    },
    {
      "cell_type": "markdown",
      "source": [
        "11. What advantages do dictionaries offer over lists for certain tasks?\n",
        "\n",
        "Ans 11. Dictionaries offer several advantages over lists for certain tasks, primarily due to their key-value pair structure and efficient lookups. Here are some key benefits:"
      ],
      "metadata": {
        "id": "o0Nu6ELnCUql"
      }
    },
    {
      "cell_type": "code",
      "source": [
        "# 1. Faster Lookups (O(1) vs. O(n))\n",
        "# Dictionaries: Use hashing, allowing for constant-time (O(1)) lookup, insertion, and deletion on average.\n",
        "# Lists: Require linear-time (O(n)) search, as they do not have a direct way to locate elements.\n",
        "# Example: Finding a student’s grade is much faster with a dictionary.\n",
        "# Dictionary (Fast lookup)\n",
        "grades_dict = {\"Alice\": 90, \"Bob\": 85, \"Charlie\": 92}\n",
        "print(grades_dict[\"Alice\"])  # O(1) operation\n",
        "\n",
        "# List (Slow lookup)\n",
        "grades_list = [(\"Alice\", 90), (\"Bob\", 85), (\"Charlie\", 92)]\n",
        "for student, grade in grades_list:\n",
        "    if student == \"Alice\":\n",
        "        print(grade)  # O(n) operation\n",
        "\n",
        "# 2. Unique Keys Ensure Data Integrity\n",
        "# Dictionaries: Keys must be unique, preventing duplicate entries.\n",
        "# Lists: Can contain duplicate values, which may lead to inconsistencies when searching or updating data.\n",
        "\n",
        "# 3. Meaningful Data Representation\n",
        "# Dictionaries: Allow for named access to data, making code more readable.\n",
        "# Lists: Use positional indexing, which can be harder to interpret.\n",
        "# Example:\n",
        "\n",
        "# Dictionary (More readable)\n",
        "person = {\"name\": \"Alice\", \"age\": 25, \"city\": \"New York\"}\n",
        "print(person[\"age\"])  # Output: 25\n",
        "\n",
        "# List (Less readable)\n",
        "person = [\"Alice\", 25, \"New York\"]\n",
        "print(person[1])  # Output: 25, but meaning is unclear without context\n",
        "\n",
        "# 4. Flexibility with Nested Structures\n",
        "# Dictionaries can store nested data efficiently, making them useful for structured information such as JSON data or configuration files.\n",
        "\n",
        "\n",
        "employee = {\n",
        "    \"name\": \"John\",\n",
        "    \"department\": {\"name\": \"IT\", \"floor\": 3},\n",
        "    \"salary\": 50000\n",
        "}\n",
        "print(employee[\"department\"][\"floor\"])  # Output: 3"
      ],
      "metadata": {
        "id": "vvePpcBmC-3c"
      },
      "execution_count": null,
      "outputs": []
    },
    {
      "cell_type": "markdown",
      "source": [
        "12. Describe a scenario where using a tuple would be preferable over a list\n",
        "\n",
        "Ans 12. A tuple is preferable over a list when you need to store a fixed collection of data that should not change throughout the program. Since tuples are immutable, they prevent accidental modifications, ensuring data integrity and safety."
      ],
      "metadata": {
        "id": "kL0P6JceDj68"
      }
    },
    {
      "cell_type": "code",
      "source": [
        "# Scenario: Storing Days of the Week in a Scheduling System\n",
        "# Imagine you are designing a task scheduling application where the days of the week (Monday to Sunday) are used to assign recurring tasks. Since the names of the days will never change, storing them in a tuple ensures they remain fixed and unmodifiable throughout the program.\n",
        "\n",
        "# Example: Using a Tuple for Days of the Week\n",
        "# Defining days of the week as a tuple (immutable)\n",
        "days_of_week = (\"Monday\", \"Tuesday\", \"Wednesday\", \"Thursday\", \"Friday\", \"Saturday\", \"Sunday\")\n",
        "\n",
        "# Attempting to modify the tuple (this will raise an error)\n",
        "# days_of_week[0] = \"Funday\"  # TypeError: 'tuple' object does not support item assignment\n",
        "\n",
        "# Using the tuple in a scheduling system\n",
        "task_schedule = {\n",
        "    \"Meeting\": days_of_week[0],   # Meeting on Monday\n",
        "    \"Workout\": days_of_week[2],   # Workout on Wednesday\n",
        "    \"Grocery Shopping\": days_of_week[5]  # Shopping on Saturday\n",
        "}\n",
        "\n",
        "print(task_schedule)\n",
        "\n",
        "# Why Use a Tuple Here?\n",
        "#  Ensures data integrity – Days of the week should never be modified.\n",
        "#  Improves efficiency – Tuples consume less memory and have faster access times than lists.\n",
        "#  Avoids accidental changes – Prevents unintentional modifications that could affect scheduling logic.\n",
        "\n",
        "# When to Use a List Instead?\n",
        "# If users could customize their own schedule (e.g., adding \"Remote Workday\"), a list would be more appropriate. However, for fixed, predefined data, a tuple is ideal."
      ],
      "metadata": {
        "id": "Xv9rbVK7D0Cr"
      },
      "execution_count": null,
      "outputs": []
    },
    {
      "cell_type": "markdown",
      "source": [
        "13. How do sets handle duplicate values in Python?\n",
        "\n",
        "Ans 13. In Python, sets automatically handle duplicate values by ensuring that each element is unique. When duplicate values are added to a set, Python ignores them, keeping only one instance of each unique value. This is because sets are implemented using hash tables, which do not allow duplicate entries.\n"
      ],
      "metadata": {
        "id": "Nqs1UH7vEQM_"
      }
    },
    {
      "cell_type": "code",
      "source": [
        "# Creating a set with duplicate values\n",
        "numbers = {1, 2, 2, 3, 4, 4, 5}\n",
        "\n",
        "print(numbers)  # Output: {1, 2, 3, 4, 5} (Duplicates removed)\n",
        "# How Sets Handle Duplicates?\n",
        "# No duplicate storage – If an element already exists, adding it again has no effect.\n",
        "# Fast lookup (O(1) on average) – Since sets use hashing, checking for duplicates is efficient.\n",
        "# Unordered collection – Unlike lists, sets do not maintain element order.\n",
        "# Practical Use Case\n",
        "# Sets are useful for tasks like removing duplicates from a list:\n",
        "# Removing duplicates from a list using a set\n",
        "names = [\"Alice\", \"Bob\", \"Alice\", \"Charlie\", \"Bob\"]\n",
        "unique_names = set(names)\n",
        "\n",
        "print(unique_names)  # Output: {'Alice', 'Charlie', 'Bob'}\n"
      ],
      "metadata": {
        "id": "vx_fl6Y1E2w0"
      },
      "execution_count": null,
      "outputs": []
    },
    {
      "cell_type": "markdown",
      "source": [
        "14. How does the “in” keyword work differently for lists and dictionaries?\n",
        "\n",
        "Ans 14.The in keyword in Python is used to check whether an element exists in a list or a dictionary, but it works differently for both data structures."
      ],
      "metadata": {
        "id": "0C7rYyz8Fu0B"
      }
    },
    {
      "cell_type": "code",
      "source": [
        "# 1. in Keyword in Lists\n",
        "# In a list, in checks whether a specific value exists.\n",
        "# It performs a linear search (O(n) time complexity), meaning it goes through each element one by one until it finds a match or reaches the end.\n",
        "# Example: Checking for a Value in a List\n",
        "fruits = [\"apple\", \"banana\", \"cherry\"]\n",
        "\n",
        "print(\"banana\" in fruits)  # Output: True\n",
        "print(\"grape\" in fruits)   # Output: False\n",
        "\n",
        "# 2. in Keyword in Dictionaries\n",
        "# In a dictionary, in checks for the existence of a key, not a value.\n",
        "# It uses hashing, making lookups much faster with an average time complexity of O(1).\n",
        "# Example: Checking for a Key in a Dictionary\n",
        "student_grades = {\"Alice\": 90, \"Bob\": 85, \"Charlie\": 92}\n",
        "\n",
        "print(\"Alice\" in student_grades)  # Output: True  (Checks for the key)\n",
        "print(90 in student_grades)       # Output: False (Does not check values)\n"
      ],
      "metadata": {
        "id": "IqtLXbL9GDN3"
      },
      "execution_count": null,
      "outputs": []
    },
    {
      "cell_type": "markdown",
      "source": [
        "15. Can you modify the elements of a tuple? Explain why or why not?\n",
        "\n",
        "Ans 15. No, we cannot modify the elements of a tuple in Python because tuples are immutable. This means that once a tuple is created, its elements cannot be changed, added, or removed.\n",
        "\n",
        " Tuples are Immutable because\n",
        "Memory Efficiency – Tuples use less memory than lists, making them faster.\n",
        "Data Integrity – Prevents accidental modifications, ensuring data remains consistent.\n",
        "Hashability – Since tuples are immutable, they can be used as keys in dictionaries, unlike lists"
      ],
      "metadata": {
        "id": "Sp6XXTAQHRbB"
      }
    },
    {
      "cell_type": "code",
      "source": [
        "# Creating a tuple\n",
        "numbers = (1, 2, 3, 4)\n",
        "\n",
        "# Trying to modify an element (This will cause an error)\n",
        "numbers[1] = 10  # TypeError: 'tuple' object does not support item assignment\n",
        "# Although tuples themselves are immutable, you can reassign a new tuple or modify mutable elements inside a tuple (like lists).\n",
        "# Reassigning a new tuple (allowed)\n",
        "numbers = (10, 20, 30)\n",
        "print(numbers)  # Output: (10, 20, 30)\n",
        "\n",
        "# Modifying a list inside a tuple (allowed)\n",
        "nested_tuple = ([1, 2, 3], \"immutable\")\n",
        "nested_tuple[0].append(4)\n",
        "print(nested_tuple)  # Output: ([1, 2, 3, 4], 'immutable')\n",
        "# Tuples cannot be modified directly, but we can work around this by reassigning them or modifying mutable objects inside them.\n",
        "# Their immutability makes them ideal for fixed data storage where integrity is crucial."
      ],
      "metadata": {
        "id": "YFY2aKE3Hoz1"
      },
      "execution_count": null,
      "outputs": []
    },
    {
      "cell_type": "markdown",
      "source": [
        "16. What is a nested dictionary, and give an example of its use case?\n",
        "\n",
        "Ans 16. A nested dictionary in Python is a dictionary that contains one or more dictionaries as its values. This allows for hierarchical data storage, making it useful for storing structured or complex data efficiently."
      ],
      "metadata": {
        "id": "8zdHt_Q7Ga9D"
      }
    },
    {
      "cell_type": "code",
      "source": [
        "# Example of Use Case: Storing Employee Records\n",
        "# Imagine you are building an HR system where each employee has multiple attributes like name, department, and salary. A nested dictionary allows you to organize this information efficiently.\n",
        "\n",
        "# Example: Employee Database Using a Nested Dictionary\n",
        "employees = {\n",
        "    \"emp101\": {\"name\": \"Alice\", \"department\": \"HR\", \"salary\": 50000},\n",
        "    \"emp102\": {\"name\": \"Bob\", \"department\": \"IT\", \"salary\": 60000},\n",
        "    \"emp103\": {\"name\": \"Charlie\", \"department\": \"Finance\", \"salary\": 55000}\n",
        "}\n",
        "\n",
        "# Accessing data from the nested dictionary\n",
        "print(employees[\"emp102\"][\"name\"])     # Output: Bob\n",
        "print(employees[\"emp103\"][\"salary\"])   # Output: 55000\n"
      ],
      "metadata": {
        "id": "qdOdI0EIG4qG"
      },
      "execution_count": null,
      "outputs": []
    },
    {
      "cell_type": "markdown",
      "source": [
        "17. Describe the time complexity of accessing elements in a dictionary?\n",
        "\n",
        "Ans 17. In Python, dictionaries use hash tables, allowing for fast element access with an average time complexity of O(1). This means retrieving a value by its key takes constant time, regardless of the dictionary's size.\n",
        "Hashing -Each key is converted into a hash value, which determines its position in memory.\n",
        "Direct Access- Instead of searching through elements, Python directly retrieves the value using the computed hash index."
      ],
      "metadata": {
        "id": "6ovacAfeHIGx"
      }
    },
    {
      "cell_type": "code",
      "source": [
        "student_grades = {\"Alice\": 90, \"Bob\": 85, \"Charlie\": 92}\n",
        "\n",
        "# Accessing a value using a key\n",
        "print(student_grades[\"Alice\"])  # Output: 90 (O(1) operation)\n",
        "# In rare cases, if multiple keys have the same hash (hash collision),\n",
        "# Python resolves conflicts using a linked list or other collision-handling techniques. If all keys collide, lookup time degrades to O(n)."
      ],
      "metadata": {
        "id": "bJyliFfNIVGw"
      },
      "execution_count": null,
      "outputs": []
    },
    {
      "cell_type": "markdown",
      "source": [
        "18.  In what situations are lists preferred over dictionaries?\n",
        "\n",
        "Ans 18. Although dictionaries provide fast lookups with O(1) complexity, lists are more suitable in certain scenarios due to their ordered nature, simplicity, and ability to store duplicate values."
      ],
      "metadata": {
        "id": "4L34svoiIiam"
      }
    },
    {
      "cell_type": "code",
      "source": [
        "# 1. When Order Matters\n",
        "# Lists maintain the order of elements, whereas dictionaries (before Python 3.7) did not guarantee order. If you need to access elements in a sequence (e.g., a playlist or timeline), a list is preferred.\n",
        "\n",
        "# Example: Maintaining Order in a To-Do List\n",
        "tasks = [\"Buy groceries\", \"Finish report\", \"Call Mom\"]\n",
        "print(tasks[0])  # Output: \"Buy groceries\" (First task)\n",
        "# 2. When Storing Homogeneous Data\n",
        "# If you are dealing with a collection of similar items (e.g., numbers, strings, objects), a list is a natural choice. Dictionaries, in contrast, work better when mapping relationships between keys and values.\n",
        "\n",
        "# Example: Storing a List of Scores\n",
        "scores = [85, 90, 78, 92, 88]\n",
        "\n",
        "# 3. When You Need Indexed Access\n",
        "# Lists allow index-based access, making them useful when you need to retrieve elements by position rather than by key.\n",
        "\n",
        "# Example: Accessing Elements by Index\n",
        "students = [\"Alice\", \"Bob\", \"Charlie\"]\n",
        "print(students[1])  # Output: Bob\n",
        "\n",
        "# 4.When You Need Duplicate Values\n",
        "# Lists allow duplicate values, whereas dictionaries do not allow duplicate keys.\n",
        "\n",
        "# Example: Tracking Repeated Items in a Shopping List\n",
        "shopping_list = [\"Apple\", \"Milk\", \"Apple\", \"Eggs\"]\n",
        "print(shopping_list)  # Output: [\"Apple\", \"Milk\", \"Apple\", \"Eggs\"]\n",
        "\n"
      ],
      "metadata": {
        "id": "FngC9dD5I1L1"
      },
      "execution_count": null,
      "outputs": []
    },
    {
      "cell_type": "markdown",
      "source": [
        "19. Why are dictionaries considered unordered, and how does that affect data retrieval?\n",
        "\n",
        "Ans 19. Dictionaries were traditionally considered unordered because they use a hash table for storage rather than maintaining elements in a sequential order like lists. This means that when you insert key-value pairs, Python determines their placement based on hash values, not on the order of insertion. However, since Python 3.7, dictionaries preserve insertion order, meaning elements appear in the order they were added. But internally, they still rely on hashing, so order maintenance is an implementation detail rather than a fundamental property."
      ],
      "metadata": {
        "id": "zEu1mFQJJeq9"
      }
    },
    {
      "cell_type": "code",
      "source": [
        "# This Affect Data Retrieval by :\n",
        "# Direct Key-Based Access (O(1))\n",
        "\n",
        "# Unlike lists, where you access elements by index, dictionaries retrieve values using keys, making access very efficient.\n",
        "# However, since dictionaries do not support indexing, you cannot retrieve elements by position.\n",
        "# Example: Key-Based Retrieval\n",
        "student_grades = {\"Alice\": 90, \"Bob\": 85, \"Charlie\": 92}\n",
        "print(student_grades[\"Bob\"])  # Output: 85 (O(1) lookup)\n",
        "\n",
        "# Randomized Order in Older Python Versions\n",
        "\n",
        "# Before Python 3.7, inserting elements in a dictionary did not guarantee any specific order, which could lead to unpredictable iteration results.\n",
        "# Example: Unordered Output in Older Python Versions\n",
        "data = {\"a\": 1, \"b\": 2, \"c\": 3}\n",
        "print(data)  # Output: Could be {'b': 2, 'a': 1, 'c': 3} (random order)\n",
        "\n"
      ],
      "metadata": {
        "id": "9tPwrcsLKRZ5"
      },
      "execution_count": null,
      "outputs": []
    },
    {
      "cell_type": "markdown",
      "source": [
        "20. Explain the difference between a list and a dictionary in terms of data retrieval.\n",
        "\n",
        "Ans 20. Lists and dictionaries in Python both store collections of data, but they differ significantly in how elements are retrieved."
      ],
      "metadata": {
        "id": "z873WvV6KpBt"
      }
    },
    {
      "cell_type": "code",
      "source": [
        "# 1. Retrieval by Index vs. Key\n",
        "# List: Uses index-based retrieval (i.e., list[index]), meaning you access elements by their position in the list.\n",
        "# Dictionary: Uses key-based retrieval (i.e., dict[key]), allowing you to fetch values using unique keys instead of an index.\n",
        "# Example: Retrieving Data from a List and a Dictionary\n",
        "# List: Access by index\n",
        "students_list = [\"Alice\", \"Bob\", \"Charlie\"]\n",
        "print(students_list[1])  # Output: Bob\n",
        "\n",
        "# Dictionary: Access by key\n",
        "students_dict = {\"Alice\": 90, \"Bob\": 85, \"Charlie\": 92}\n",
        "print(students_dict[\"Bob\"])  # Output: 85\n",
        "\n",
        "# 2. Duplicate Elements\n",
        "# List: Allows duplicate values.\n",
        "# Dictionary: Does not allow duplicate keys, but values can be repeated.\n",
        "# Example: Duplicates in a List vs. Dictionary\n",
        "# List with duplicates\n",
        "fruits = [\"apple\", \"banana\", \"apple\"]\n",
        "print(fruits)  # Output: ['apple', 'banana', 'apple']\n",
        "\n",
        "# Dictionary prevents duplicate keys\n",
        "fruit_prices = {\"apple\": 100, \"banana\": 50, \"apple\": 120}  # Last value overwrites previous\n",
        "print(fruit_prices)  # Output: {'apple': 120, 'banana': 50}\n",
        "\n",
        "# 3. Time Complexity\n",
        "# List: O(1) for direct index access but O(n) for searching an element (since you must scan through the list).\n",
        "# Dictionary: O(1) on average for retrieving values using keys (due to hashing).\n",
        "# Example: Searching in a List vs. Dictionary\n",
        "\n",
        "# Searching for a value in a list (O(n))\n",
        "print(85 in students_list)  # Slow: Must check each element\n",
        "\n",
        "# Checking a key in a dictionary (O(1))\n",
        "print(\"Bob\" in students_dict)  # Fast: Uses hash lookup\n",
        "\n",
        "\n"
      ],
      "metadata": {
        "id": "zvEPNcicK5HS"
      },
      "execution_count": null,
      "outputs": []
    },
    {
      "cell_type": "markdown",
      "source": [
        "PRACTICAL QUESTIONS"
      ],
      "metadata": {
        "id": "HdUUvZJ9RNUC"
      }
    },
    {
      "cell_type": "code",
      "source": [
        " #1.Write a code to create a string with your name and print it\n",
        " my_name= \"Md Mustahidul Islam\"\n",
        " print(my_name)"
      ],
      "metadata": {
        "colab": {
          "base_uri": "https://localhost:8080/"
        },
        "id": "a2vEy7JdJc24",
        "outputId": "b1f78a41-7874-4c58-c645-5af967a57ad8"
      },
      "execution_count": 1,
      "outputs": [
        {
          "output_type": "stream",
          "name": "stdout",
          "text": [
            "Md Mustahidul Islam\n"
          ]
        }
      ]
    },
    {
      "cell_type": "code",
      "source": [
        "\n",
        "#2. Write a code to find the length of the string \"Hello World\"\n",
        "a=\"Hello World\"\n",
        "print(len(a))\n",
        "\n"
      ],
      "metadata": {
        "colab": {
          "base_uri": "https://localhost:8080/"
        },
        "id": "futWnPnAFJxT",
        "outputId": "7d7e03d0-158d-4ded-f20f-0e3e27e92b8a"
      },
      "execution_count": 2,
      "outputs": [
        {
          "output_type": "stream",
          "name": "stdout",
          "text": [
            "11\n"
          ]
        }
      ]
    },
    {
      "cell_type": "code",
      "source": [
        "#3. Write a code to slice the first 3 characters from the string \"Python Programming\"\n",
        "x= \"Python Programming\"\n",
        "print(x[0:3])"
      ],
      "metadata": {
        "colab": {
          "base_uri": "https://localhost:8080/"
        },
        "id": "IOt18F2BSIG6",
        "outputId": "7bc4aae7-2e6c-4314-b043-e5071462614a"
      },
      "execution_count": 3,
      "outputs": [
        {
          "output_type": "stream",
          "name": "stdout",
          "text": [
            "Pyt\n"
          ]
        }
      ]
    },
    {
      "cell_type": "code",
      "source": [
        "#4. Write a code to convert the string \"hello\" to uppercase\n",
        "m=\"hello\"\n",
        "m.upper()"
      ],
      "metadata": {
        "colab": {
          "base_uri": "https://localhost:8080/",
          "height": 36
        },
        "id": "rNbcXMrQSdG_",
        "outputId": "ff5e7755-cd82-4f90-c36a-ec0ad978a8e6"
      },
      "execution_count": 4,
      "outputs": [
        {
          "output_type": "execute_result",
          "data": {
            "text/plain": [
              "'HELLO'"
            ],
            "application/vnd.google.colaboratory.intrinsic+json": {
              "type": "string"
            }
          },
          "metadata": {},
          "execution_count": 4
        }
      ]
    },
    {
      "cell_type": "code",
      "source": [
        "#5. Write a code to replace the word \"apple\" with \"orange\" in the string \"I like apple\"\n",
        "a=\"I like apple\"\n",
        "a.replace(\"apple\",\"orange\")"
      ],
      "metadata": {
        "colab": {
          "base_uri": "https://localhost:8080/",
          "height": 36
        },
        "id": "Ca2mHkykSqXE",
        "outputId": "118040df-aaef-41b7-8e03-6d80cfc74de5"
      },
      "execution_count": 5,
      "outputs": [
        {
          "output_type": "execute_result",
          "data": {
            "text/plain": [
              "'I like orange'"
            ],
            "application/vnd.google.colaboratory.intrinsic+json": {
              "type": "string"
            }
          },
          "metadata": {},
          "execution_count": 5
        }
      ]
    },
    {
      "cell_type": "code",
      "source": [
        "#6. Write a code to create a list with numbers 1 to 5 and print it\n",
        "a=[1,2,3,4,5]\n",
        "print(a)"
      ],
      "metadata": {
        "colab": {
          "base_uri": "https://localhost:8080/"
        },
        "id": "_RXN2-0LS_QY",
        "outputId": "8d00111d-ce99-4726-e6ef-eeb882f07e7c"
      },
      "execution_count": 7,
      "outputs": [
        {
          "output_type": "stream",
          "name": "stdout",
          "text": [
            "[1, 2, 3, 4, 5]\n"
          ]
        }
      ]
    },
    {
      "cell_type": "code",
      "source": [
        "#7. Write a code to append the number 10 to the list [1, 2, 3, 4]\n",
        "n= [1,2,3,4]\n",
        "n.append(10)\n",
        "print(n)"
      ],
      "metadata": {
        "colab": {
          "base_uri": "https://localhost:8080/"
        },
        "id": "S6yBWKedTVCb",
        "outputId": "e6b88c19-524f-46d7-cfec-5d9dfca3a186"
      },
      "execution_count": 10,
      "outputs": [
        {
          "output_type": "stream",
          "name": "stdout",
          "text": [
            "[1, 2, 3, 4, 10]\n"
          ]
        }
      ]
    },
    {
      "cell_type": "code",
      "source": [
        "#8. Write a code to remove the number 3 from the list [1, 2, 3, 4, 5]\n",
        "x=[1,2,3,4,5]\n",
        "x.remove(3)\n",
        "print(x)"
      ],
      "metadata": {
        "colab": {
          "base_uri": "https://localhost:8080/"
        },
        "id": "4a6hPTgITwyQ",
        "outputId": "a2ebbedd-c532-4424-a9b7-c142eab5380e"
      },
      "execution_count": 11,
      "outputs": [
        {
          "output_type": "stream",
          "name": "stdout",
          "text": [
            "[1, 2, 4, 5]\n"
          ]
        }
      ]
    },
    {
      "cell_type": "code",
      "source": [],
      "metadata": {
        "id": "oSjpadvaUWyi"
      },
      "execution_count": null,
      "outputs": []
    },
    {
      "cell_type": "code",
      "source": [
        "#9. Write a code to access the second element in the list ['a', 'b', 'c', 'd']\n",
        "x= ['a', 'b', 'c', 'd']\n",
        "x[-3]"
      ],
      "metadata": {
        "colab": {
          "base_uri": "https://localhost:8080/",
          "height": 36
        },
        "id": "HNTVzJmkUNeE",
        "outputId": "5314d154-853a-4882-8c0b-6a4bd5771cc3"
      },
      "execution_count": 12,
      "outputs": [
        {
          "output_type": "execute_result",
          "data": {
            "text/plain": [
              "'b'"
            ],
            "application/vnd.google.colaboratory.intrinsic+json": {
              "type": "string"
            }
          },
          "metadata": {},
          "execution_count": 12
        }
      ]
    },
    {
      "cell_type": "code",
      "source": [
        "#10. Write a code to reverse the list [10, 20, 30, 40, 50].\n",
        "a= [10, 20, 30, 40, 50]\n",
        "a[::-1]"
      ],
      "metadata": {
        "colab": {
          "base_uri": "https://localhost:8080/"
        },
        "id": "8_C7QTcIUlAT",
        "outputId": "6210f848-d428-4acb-c7c4-a452438f2288"
      },
      "execution_count": 14,
      "outputs": [
        {
          "output_type": "execute_result",
          "data": {
            "text/plain": [
              "[50, 40, 30, 20, 10]"
            ]
          },
          "metadata": {},
          "execution_count": 14
        }
      ]
    },
    {
      "cell_type": "code",
      "source": [
        "#11. Write a code to create a tuple with the elements 100, 200, 300 and print it.\n",
        "t=100,200,200\n",
        "(t)"
      ],
      "metadata": {
        "colab": {
          "base_uri": "https://localhost:8080/"
        },
        "id": "eE1b2qMQU1m3",
        "outputId": "cb31b2c0-2ebc-42eb-b598-ef0e3694f869"
      },
      "execution_count": 23,
      "outputs": [
        {
          "output_type": "execute_result",
          "data": {
            "text/plain": [
              "(100, 200, 200)"
            ]
          },
          "metadata": {},
          "execution_count": 23
        }
      ]
    },
    {
      "cell_type": "code",
      "source": [
        "type(t)"
      ],
      "metadata": {
        "colab": {
          "base_uri": "https://localhost:8080/"
        },
        "id": "DC5yOKh0V3aS",
        "outputId": "26197bea-207c-4321-f34b-f125b92b73a4"
      },
      "execution_count": 27,
      "outputs": [
        {
          "output_type": "execute_result",
          "data": {
            "text/plain": [
              "tuple"
            ]
          },
          "metadata": {},
          "execution_count": 27
        }
      ]
    },
    {
      "cell_type": "code",
      "source": [
        "#12.  Write a code to access the second-to-last element of the tuple ('red', 'green', 'blue', 'yellow').\n",
        "colors = ('red', 'green', 'blue', 'yellow')\n",
        "colors[-2]\n"
      ],
      "metadata": {
        "colab": {
          "base_uri": "https://localhost:8080/",
          "height": 36
        },
        "id": "rh3DIHAaVOit",
        "outputId": "95e24b57-cbfd-4c00-d095-49926cab7280"
      },
      "execution_count": 29,
      "outputs": [
        {
          "output_type": "execute_result",
          "data": {
            "text/plain": [
              "'blue'"
            ],
            "application/vnd.google.colaboratory.intrinsic+json": {
              "type": "string"
            }
          },
          "metadata": {},
          "execution_count": 29
        }
      ]
    },
    {
      "cell_type": "code",
      "source": [
        "#13. Write a code to find the minimum number in the tuple (10, 20, 5, 15)\n",
        "a=(10, 20, 5, 15)\n",
        "min(a)"
      ],
      "metadata": {
        "colab": {
          "base_uri": "https://localhost:8080/"
        },
        "id": "kshRe5-TWceK",
        "outputId": "81d4b9c2-695d-4d22-ae26-f24219a23fc7"
      },
      "execution_count": 31,
      "outputs": [
        {
          "output_type": "execute_result",
          "data": {
            "text/plain": [
              "5"
            ]
          },
          "metadata": {},
          "execution_count": 31
        }
      ]
    },
    {
      "cell_type": "markdown",
      "source": [],
      "metadata": {
        "id": "AM20VaOzXFyD"
      }
    },
    {
      "cell_type": "code",
      "source": [
        "#14. Write a code to find the index of the element \"cat\" in the tuple ('dog', 'cat', 'rabbit').\n",
        "x= ('dog', 'cat', 'rabbit')\n",
        "x.index('cat')"
      ],
      "metadata": {
        "colab": {
          "base_uri": "https://localhost:8080/"
        },
        "id": "9CI8x_clW6Ux",
        "outputId": "d7fa31a7-f117-43e8-92a8-fdfbf8216075"
      },
      "execution_count": 34,
      "outputs": [
        {
          "output_type": "execute_result",
          "data": {
            "text/plain": [
              "1"
            ]
          },
          "metadata": {},
          "execution_count": 34
        }
      ]
    },
    {
      "cell_type": "code",
      "source": [
        "#15. Write a code to create a tuple containing three different fruits and check if \"kiwi\" is in it.\n",
        "fruits= (\"apple\",\"kiwi\",\"pineapple\")\n",
        "type(fruits)"
      ],
      "metadata": {
        "colab": {
          "base_uri": "https://localhost:8080/"
        },
        "id": "kcUP8rs8XQwo",
        "outputId": "c60f1366-def8-4c71-e025-36a1b2f73a20"
      },
      "execution_count": 36,
      "outputs": [
        {
          "output_type": "execute_result",
          "data": {
            "text/plain": [
              "tuple"
            ]
          },
          "metadata": {},
          "execution_count": 36
        }
      ]
    },
    {
      "cell_type": "code",
      "source": [
        "if \"kiwi\" in fruits:\n",
        "  print(True)\n",
        "else:\n",
        "  print(False)"
      ],
      "metadata": {
        "colab": {
          "base_uri": "https://localhost:8080/"
        },
        "id": "If1zGR2eX6dQ",
        "outputId": "4d4977c6-bf37-4f2d-afd8-48645b860981"
      },
      "execution_count": 37,
      "outputs": [
        {
          "output_type": "stream",
          "name": "stdout",
          "text": [
            "True\n"
          ]
        }
      ]
    },
    {
      "cell_type": "code",
      "source": [
        "#16. Write a code to create a set with the elements 'a', 'b', 'c' and print it.\n",
        "s= {'a', 'b', 'c'}\n",
        "print(s)"
      ],
      "metadata": {
        "colab": {
          "base_uri": "https://localhost:8080/"
        },
        "id": "rx4xJO4BYR9o",
        "outputId": "b30fe1ca-57fc-404c-daa4-7d8c702adcdc"
      },
      "execution_count": 38,
      "outputs": [
        {
          "output_type": "stream",
          "name": "stdout",
          "text": [
            "{'b', 'c', 'a'}\n"
          ]
        }
      ]
    },
    {
      "cell_type": "code",
      "source": [
        "#17.  Write a code to clear all elements from the set {1, 2, 3, 4, 5}.\n",
        "x=  {1, 2, 3, 4, 5}\n",
        "x.clear()\n",
        "print(x)"
      ],
      "metadata": {
        "colab": {
          "base_uri": "https://localhost:8080/"
        },
        "id": "n_kXJLaWYpGG",
        "outputId": "af6ef825-0291-472e-ed5d-2acfbf47ac98"
      },
      "execution_count": 41,
      "outputs": [
        {
          "output_type": "stream",
          "name": "stdout",
          "text": [
            "set()\n"
          ]
        }
      ]
    },
    {
      "cell_type": "code",
      "source": [
        "#18. . Write a code to remove the element 4 from the set {1, 2, 3, 4}\n",
        "b={1,2,3,4}\n",
        "b.remove(4)\n",
        "print(b)"
      ],
      "metadata": {
        "colab": {
          "base_uri": "https://localhost:8080/"
        },
        "id": "LMuCfOngY6Mq",
        "outputId": "d5afd4b1-c1b7-43c4-b467-f281883b68cf"
      },
      "execution_count": 42,
      "outputs": [
        {
          "output_type": "stream",
          "name": "stdout",
          "text": [
            "{1, 2, 3}\n"
          ]
        }
      ]
    },
    {
      "cell_type": "code",
      "source": [
        "#19. Write a code to find the union of two sets {1, 2, 3} and {3, 4, 5}.\n",
        "a={1,2,3}\n",
        "b={3,4,5}\n",
        "print(a|b)"
      ],
      "metadata": {
        "colab": {
          "base_uri": "https://localhost:8080/"
        },
        "id": "38xiaBpdZTH8",
        "outputId": "daa9ef98-c67a-4512-c15d-c87ba878c64f"
      },
      "execution_count": 43,
      "outputs": [
        {
          "output_type": "stream",
          "name": "stdout",
          "text": [
            "{1, 2, 3, 4, 5}\n"
          ]
        }
      ]
    },
    {
      "cell_type": "code",
      "source": [
        "#20.  Write a code to find the intersection of two sets {1, 2, 3} and {2, 3, 4}\n",
        "x={1,2,3}\n",
        "y={2,3,4}\n",
        "x & y"
      ],
      "metadata": {
        "colab": {
          "base_uri": "https://localhost:8080/"
        },
        "id": "mZoy9oWRZmqH",
        "outputId": "5afbca84-cd97-4445-98a2-41a0c16a658c"
      },
      "execution_count": 44,
      "outputs": [
        {
          "output_type": "execute_result",
          "data": {
            "text/plain": [
              "{2, 3}"
            ]
          },
          "metadata": {},
          "execution_count": 44
        }
      ]
    },
    {
      "cell_type": "code",
      "source": [
        "#21. Write a code to create a dictionary with the keys \"name\", \"age\", and \"city\", and print it.\n",
        "d={\"name\":\"\",\"age\":\"\",\"city\":\"\"}\n",
        "print(d)"
      ],
      "metadata": {
        "colab": {
          "base_uri": "https://localhost:8080/"
        },
        "id": "sCyXQU40Z44d",
        "outputId": "0ac2df73-83bd-4b71-faaf-34b5b29f67f2"
      },
      "execution_count": 45,
      "outputs": [
        {
          "output_type": "stream",
          "name": "stdout",
          "text": [
            "{'name': '', 'age': '', 'city': ''}\n"
          ]
        }
      ]
    },
    {
      "cell_type": "code",
      "source": [
        "#22.  Write a code to add a new key-value pair \"country\": \"USA\" to the dictionary {'name': 'John', 'age': 25}.\n",
        "d= {'name': 'John', 'age': 25}\n",
        "d.update({\"country\": \"USA\"})\n",
        "print(d)"
      ],
      "metadata": {
        "colab": {
          "base_uri": "https://localhost:8080/"
        },
        "id": "HVR8y4XmaLYA",
        "outputId": "b012e5ac-bf16-451a-e2e1-ef0951b4f5a3"
      },
      "execution_count": 46,
      "outputs": [
        {
          "output_type": "stream",
          "name": "stdout",
          "text": [
            "{'name': 'John', 'age': 25, 'country': 'USA'}\n"
          ]
        }
      ]
    },
    {
      "cell_type": "code",
      "source": [
        "#23.  Write a code to access the value associated with the key \"name\" in the dictionary {'name': 'Alice', 'age': 30}\n",
        "a= {'name': 'Alice', 'age': 30}\n",
        "a[\"name\"]"
      ],
      "metadata": {
        "colab": {
          "base_uri": "https://localhost:8080/",
          "height": 36
        },
        "id": "OinI_u36agFs",
        "outputId": "03e3cc36-375e-4397-81b1-b5829468c319"
      },
      "execution_count": 47,
      "outputs": [
        {
          "output_type": "execute_result",
          "data": {
            "text/plain": [
              "'Alice'"
            ],
            "application/vnd.google.colaboratory.intrinsic+json": {
              "type": "string"
            }
          },
          "metadata": {},
          "execution_count": 47
        }
      ]
    },
    {
      "cell_type": "code",
      "source": [
        "#24. Write a code to remove the key \"age\" from the dictionary {'name': 'Bob', 'age': 22, 'city': 'New York'}.\n",
        "b= {'name': 'Bob', 'age': 22, 'city': 'New York'}\n",
        "b.pop(\"age\")\n",
        "print(b)"
      ],
      "metadata": {
        "colab": {
          "base_uri": "https://localhost:8080/"
        },
        "id": "LO3hjSbwaynt",
        "outputId": "c91f8aa2-1e0a-4896-a76a-64a8ec0f073b"
      },
      "execution_count": 50,
      "outputs": [
        {
          "output_type": "stream",
          "name": "stdout",
          "text": [
            "{'name': 'Bob', 'city': 'New York'}\n"
          ]
        }
      ]
    },
    {
      "cell_type": "code",
      "source": [
        "#25. Write a code to check if the key \"city\" exists in the dictionary {'name': 'Alice', 'city': 'Paris'}.\n",
        "v= {'name': 'Alice', 'city': 'Paris'}\n",
        "'city' in v"
      ],
      "metadata": {
        "colab": {
          "base_uri": "https://localhost:8080/"
        },
        "id": "XDdh-qrpbHOy",
        "outputId": "638bc754-94ee-45d5-9f6d-8abea74d0601"
      },
      "execution_count": 51,
      "outputs": [
        {
          "output_type": "execute_result",
          "data": {
            "text/plain": [
              "True"
            ]
          },
          "metadata": {},
          "execution_count": 51
        }
      ]
    },
    {
      "cell_type": "code",
      "source": [
        "#26.  Write a code to create a list, a tuple, and a dictionary, and print them all.\n",
        "# Creating a list\n",
        "Hidul_list = [\"apple\", \"banana\", \"cherry\"]\n",
        "\n",
        "# Creating a tuple\n",
        "Hidul_tuple = (\"red\", \"green\", \"blue\")\n",
        "\n",
        "# Creating a dictionary\n",
        "Hidul_dict = {\"name\": \"Janna\", \"age\": 25, \"city\": \"Guwahati\"}\n",
        "\n",
        "# Printing all the data structures\n",
        "print(Hidul_list)\n",
        "print(Hidul_tuple)\n",
        "print(Hidul_dict)\n"
      ],
      "metadata": {
        "colab": {
          "base_uri": "https://localhost:8080/"
        },
        "id": "oZX1DM1KbkDn",
        "outputId": "5474f64d-67ae-46b3-e3ae-db57f6d236c2"
      },
      "execution_count": 56,
      "outputs": [
        {
          "output_type": "stream",
          "name": "stdout",
          "text": [
            "['apple', 'banana', 'cherry']\n",
            "('red', 'green', 'blue')\n",
            "{'name': 'Janna', 'age': 25, 'city': 'Guwahati'}\n"
          ]
        }
      ]
    },
    {
      "cell_type": "code",
      "source": [
        "#27.  Write a code to create a list of 5 random numbers between 1 and 100, sort it in ascending order, and print the result.(replaced)\n",
        "import random\n",
        "\n",
        "a = random.sample(range(1, 101), 5)\n",
        "\n",
        "# Sorting the list in ascending order\n",
        "a.sort()\n",
        "\n",
        "\n",
        "print(\"Sorted List:\", a)\n"
      ],
      "metadata": {
        "colab": {
          "base_uri": "https://localhost:8080/"
        },
        "id": "_h6hXS8CcC9Z",
        "outputId": "a5e41f9d-5fe2-4caa-accf-1e288b04e405"
      },
      "execution_count": 60,
      "outputs": [
        {
          "output_type": "stream",
          "name": "stdout",
          "text": [
            "Sorted List: [7, 46, 55, 65, 93]\n"
          ]
        }
      ]
    },
    {
      "cell_type": "code",
      "source": [
        "#28. Write a code to create a list with strings and print the element at the third index.\n",
        "a=[\"raju\", \"34\",\"29987\", \"rolo\",\"dabbu\"]\n",
        "print(a)\n",
        "a[3]"
      ],
      "metadata": {
        "colab": {
          "base_uri": "https://localhost:8080/",
          "height": 53
        },
        "id": "MxF92cd-ev5C",
        "outputId": "718f770a-8685-4e90-d1e1-487f66b831a6"
      },
      "execution_count": 61,
      "outputs": [
        {
          "output_type": "stream",
          "name": "stdout",
          "text": [
            "['raju', '34', '29987', 'rolo', 'dabbu']\n"
          ]
        },
        {
          "output_type": "execute_result",
          "data": {
            "text/plain": [
              "'rolo'"
            ],
            "application/vnd.google.colaboratory.intrinsic+json": {
              "type": "string"
            }
          },
          "metadata": {},
          "execution_count": 61
        }
      ]
    },
    {
      "cell_type": "code",
      "source": [
        "#29. Write a code to combine two dictionaries into one and print the result.\n",
        "\n",
        "\n",
        "dict1 = {\"a\": 1, \"b\": 2, \"c\": 3}\n",
        "dict2 = {\"d\": 4, \"e\": 5, \"f\": 6}\n",
        "\n",
        "combined_dict = dict1.copy()\n",
        "combined_dict.update(dict2)\n",
        "\n",
        "\n",
        "print(\"Combined Dictionary:\", combined_dict)\n",
        "\n"
      ],
      "metadata": {
        "colab": {
          "base_uri": "https://localhost:8080/"
        },
        "id": "fQQGobgVgQLi",
        "outputId": "f5fa03cc-07d4-4a9e-fc7d-f03cfe30dd16"
      },
      "execution_count": 67,
      "outputs": [
        {
          "output_type": "stream",
          "name": "stdout",
          "text": [
            "Combined Dictionary: {'a': 1, 'b': 2, 'c': 3, 'd': 4, 'e': 5, 'f': 6}\n"
          ]
        }
      ]
    },
    {
      "cell_type": "code",
      "source": [
        "#30. Write a code to convert a list of strings into a set\n",
        "\n",
        "fruits = [\"apple\", \"banana\", \"cherry\", \"apple\", \"banana\", \"grapes\"]\n",
        "\n",
        "fruits_set = set(fruits)\n",
        "\n",
        "print(\"Set of Fruits:\", fruits_set)\n"
      ],
      "metadata": {
        "colab": {
          "base_uri": "https://localhost:8080/"
        },
        "id": "qE4fSyAghDdJ",
        "outputId": "b7e07a05-9ff6-490d-9673-33cbe6ac5b16"
      },
      "execution_count": 74,
      "outputs": [
        {
          "output_type": "stream",
          "name": "stdout",
          "text": [
            "Set of Fruits: {'grapes', 'cherry', 'banana', 'apple'}\n"
          ]
        }
      ]
    },
    {
      "cell_type": "code",
      "source": [],
      "metadata": {
        "id": "ZkwkoJy5iKFj"
      },
      "execution_count": null,
      "outputs": []
    }
  ]
}